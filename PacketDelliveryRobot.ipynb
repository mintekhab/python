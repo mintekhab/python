{
 "cells": [
  {
   "cell_type": "markdown",
   "metadata": {},
   "source": [
    "# Computational and Artifical Intelligenge Assignment 1\n",
    "\n",
    "Problem Solving by Searching using BFS and DFS (Bidirectional Search)\n",
    "\n",
    "Weightage: 10%\n",
    "\n",
    "Date of Posting - 04/July/2019\n",
    "\n",
    "Deadline - 19/July/2019"
   ]
  },
  {
   "cell_type": "markdown",
   "metadata": {},
   "source": [
    "Please enter group and individual information here\n",
    "\n",
    "Group ID/Number:\n",
    "\n",
    "Group Members BITS ID:"
   ]
  },
  {
   "cell_type": "markdown",
   "metadata": {},
   "source": [
    "Things to follow\n",
    "\n",
    "1. Use appropriate data structures for the fringes and explain the reasoning behind the usage. You need not create data structures, instead use available libraries directly.\n",
    "\n",
    "2. Avoid any hard-coding unless absolutely necessary.\n",
    "\n",
    "3. Provide proper documentation"
   ]
  },
  {
   "cell_type": "markdown",
   "metadata": {},
   "source": [
    "Coding begins now!!!"
   ]
  },
  {
   "cell_type": "markdown",
   "metadata": {},
   "source": [
    "Define the environment representation in the following code block"
   ]
  },
  {
   "cell_type": "code",
   "execution_count": 1,
   "metadata": {},
   "outputs": [],
   "source": [
    "#Environment representation goes here\n",
    "%matplotlib inline\n",
    "import networkx as nx\n",
    "import matplotlib.pyplot as plt\n",
    "import warnings\n",
    "warnings.filterwarnings('ignore')\n",
    "## Create a Diagraph for problem representation\n",
    "## Empty Digraph\n",
    "G = nx.DiGraph()\n",
    "## Add nodes \n",
    "G.add_nodes_from([i for i in range (0,12)])\n",
    "\n",
    "## Add Edges with Label Left, Right and weight\n",
    "## Direction Right= 1 , Left = 0\n",
    "edge_list = [(0,1,{\"direction\": 1,\"weight\":1}),(0,11,{\"direction\": 0,\"weight\":1}), \\\n",
    "             (1,2,{\"direction\": 1,\"weight\":1}),(1,0,{\"direction\": 0,\"weight\":1}), \\\n",
    "             (2,3,{\"direction\": 1,\"weight\":1}),(2,1,{\"direction\": 0,\"weight\":1}), \\\n",
    "             (3,4,{\"direction\": 1,\"weight\":2}),(3,2,{\"direction\": 0,\"weight\":1}), \\\n",
    "             (4,5,{\"direction\": 1,\"weight\":2}),(4,3,{\"direction\": 0,\"weight\":2}), \\\n",
    "             (5,6,{\"direction\": 1,\"weight\":2}),(5,4,{\"direction\": 0,\"weight\":2}), \\\n",
    "             (6,7,{\"direction\": 1,\"weight\":1}),(6,5,{\"direction\": 0,\"weight\":2}), \\\n",
    "             (7,8,{\"direction\": 1,\"weight\":1}),(7,6,{\"direction\": 0,\"weight\":1}), \\\n",
    "             (8,9,{\"direction\": 1,\"weight\":1}),(8,7,{\"direction\": 0,\"weight\":1}), \\\n",
    "             (9,10,{\"direction\": 1,\"weight\":1}),(9,8,{\"direction\": 0,\"weight\":1}), \\\n",
    "             (10,11,{\"direction\": 1,\"weight\":1}),(10,9,{\"direction\": 0,\"weight\":1}), \\\n",
    "             (11,11,{\"direction\": 1,\"weight\":1}),(11,10,{\"direction\": 0,\"weight\":1}), \\\n",
    "            ]\n",
    "G.add_edges_from(edge_list)"
   ]
  },
  {
   "cell_type": "code",
   "execution_count": 12,
   "metadata": {},
   "outputs": [
    {
     "data": {
      "image/png": "[encoded data removed]",
      "text/plain": [
       "<Figure size 432x288 with 1 Axes>"
      ]
     },
     "metadata": {},
     "output_type": "display_data"
    }
   ],
   "source": [
    "nx.draw(G, with_labels=True, font_weight='bold')"
   ]
  },
  {
   "cell_type": "markdown",
   "metadata": {},
   "source": [
    "Define the fringe (data structure) and its supported methods in the following code block"
   ]
  },
  {
   "cell_type": "code",
   "execution_count": 3,
   "metadata": {},
   "outputs": [],
   "source": [
    "#Fringe representation and its associated methods\n",
    "from collections import deque\n",
    "\n",
    "## SET START AND GOAL STATE\n",
    "START = 1\n",
    "GOAL = 10\n",
    "\n",
    "## DataStructure for BFS\n",
    "bfs_frontier_set = deque([START])  ## initial state is always'D01:1'\n",
    "bfs_explored_set = []\n",
    "## DataStructure for DFS\n",
    "dfs_frontier_set = []\n",
    "dfs_explored_set = []\n",
    "\n",
    "def dfs_worker(G,Source,depth):\n",
    "    \"\"\" Returns forntier set and explored set for input Graph, Source node and depth\n",
    "        Parameters\n",
    "        ----------\n",
    "        G:NetworkX graph\n",
    "        Source:Node in Graph to search\n",
    "        depth: DFS node search depth\n",
    "        Returns\n",
    "        -------\n",
    "        succ: list\n",
    "        forntier set \n",
    "        explored set\n",
    "    \"\"\"\n",
    "    frontierSet = []\n",
    "    ExploredSet = []\n",
    "    nodeList = []\n",
    "    for k,v in dict(nx.dfs_successors(G,source=Source,depth_limit=depth)).items():\n",
    "        if k not in ExploredSet:\n",
    "            ExploredSet.append(k)\n",
    "        for elem in v:\n",
    "            nodeList.append(elem)\n",
    "    frontierSet = [x for x in nodeList if x not in ExploredSet]\n",
    "    return ExploredSet,frontierSet\n",
    "    \n",
    "#Algorithm BFS\n",
    "def bfs_worker(G,Source,bfsExploredSet):\n",
    "    \"\"\" Returns generated nodes of input Graph Source\n",
    "        Parameters\n",
    "        ----------\n",
    "        G : NetworkX graph\n",
    "        Source : Node in Graph to search\n",
    "        Explored Set \n",
    "        Returns\n",
    "        -------\n",
    "        succ: list\n",
    "        A list of successor nodes as values. (generated Node)\n",
    "    \"\"\"\n",
    "    nodeList = []\n",
    "    for k,v in dict(nx.bfs_successors(G,source=Source,depth_limit=1)).items():\n",
    "        for elem in v:\n",
    "            if elem not in bfsExploredSet:\n",
    "                nodeList.append(elem)\n",
    "    return nodeList\n",
    "\n",
    "def bfs_dfs_intersect(dfs_frontier_set,bfs_frontier_set):\n",
    "    \"\"\" Returns node where bfs and dfs meets\n",
    "        Parameters\n",
    "        ----------\n",
    "        BFS Frontier Set\n",
    "        DFS Frontier set\n",
    "        Returns\n",
    "        -------\n",
    "        succ: list\n",
    "        A list of intersecting nodes\n",
    "    \"\"\"\n",
    "    return list(set(dfs_frontier_set) & set(bfs_frontier_set))"
   ]
  },
  {
   "cell_type": "markdown",
   "metadata": {},
   "source": [
    "Define your algorithm in the following code block"
   ]
  },
  {
   "cell_type": "code",
   "execution_count": 4,
   "metadata": {},
   "outputs": [],
   "source": [
    "def bidirectional_traversal(G,bfs_frontier_set,bfs_explored_set,GOAL):\n",
    "    \"\"\" Returns dfs_explored_set,dfs_frontier_set and \n",
    "        intersection of bfs_frontier_set,dfs_frontier_set\n",
    "        Parameters\n",
    "        ----------\n",
    "        BFS Frontier Set\n",
    "        BFS explored set\n",
    "        GOAL state\n",
    "        Returns\n",
    "        -------\n",
    "        succ: \n",
    "        dfs_explored_set\n",
    "        dfs_frontier_set\n",
    "        intersecting nodes\n",
    "    \"\"\"\n",
    "    max_nodes_in_mem = 0 \n",
    "    dfsnode = GOAL  ## Target Node (Goal state)\n",
    "    depth = 0\n",
    "    intersect_flag = False\n",
    "    dfs_frontier_set = []\n",
    "    dfs_explored_set = []\n",
    "    ## Loop until bfs frontier set is empty\n",
    "    while bfs_frontier_set : \n",
    "        bfsnode = bfs_frontier_set.popleft()\n",
    "        if bfsnode not in bfs_explored_set:\n",
    "            bfs_explored_set.append(bfsnode) \n",
    "        if bfsnode == GOAL : ## Break if GOAL State is returned \n",
    "            break\n",
    "        ## Break if dfs frontier and bfs frontier have common node(s)\n",
    "        [ bfs_frontier_set.append(elem) for elem in bfs_worker(G,bfsnode,bfs_explored_set)]\n",
    "        ##Debug display\n",
    "        print(\"BFS Frontier Set : \" ,bfs_frontier_set)\n",
    "        print(\"BFS Explored Set : \" ,bfs_explored_set)\n",
    "        print(\"===========================================\")\n",
    "        if bfs_dfs_intersect(bfs_frontier_set,dfs_frontier_set):\n",
    "            intersect_flag = True\n",
    "            break\n",
    "        ## Increase the Depth of DFS if DFS explored set is less than \n",
    "        ## bfs explored set\n",
    "        if depth < len(G) and len(dfs_explored_set) < len(bfs_explored_set):\n",
    "            depth = depth + 1  \n",
    "            dfs_explored_set, dfs_frontier_set = dfs_worker(G,dfsnode,depth)\n",
    "            ##Debug display\n",
    "            print(\"DFS Depth :\",depth)\n",
    "            print(\"DFS Frontier Set : \" ,dfs_frontier_set)\n",
    "            print(\"DFS Explored Set : \" ,dfs_explored_set)\n",
    "            print(\"===========================================\")\n",
    "        if bfs_dfs_intersect(bfs_frontier_set,dfs_frontier_set):\n",
    "            intersect_flag = True\n",
    "            break\n",
    "        max_nodes_in_mem = max (max_nodes_in_mem,len(bfs_frontier_set)+len(dfs_frontier_set))\n",
    "    if intersect_flag:\n",
    "        print(\"intersection Found\")\n",
    "        max_nodes_in_mem = max (max_nodes_in_mem,len(bfs_frontier_set)+len(dfs_frontier_set))\n",
    "        return dfs_explored_set,dfs_frontier_set,bfs_dfs_intersect(bfs_frontier_set,dfs_frontier_set),max_nodes_in_mem\n",
    "    else:\n",
    "        return dfs_explored_set,dfs_frontier_set,None"
   ]
  },
  {
   "cell_type": "markdown",
   "metadata": {},
   "source": [
    "Feel free to add code blocks for any other methods needed starting here."
   ]
  },
  {
   "cell_type": "code",
   "execution_count": 5,
   "metadata": {},
   "outputs": [],
   "source": [
    "def bfs(G, START,END):\n",
    "    \"\"\" Returns the path from the initial state to the intersection set nodes \n",
    "        Parameters\n",
    "        ----------\n",
    "        Graph (networkx)\n",
    "        START : initial state (always D01)\n",
    "        END : intersection of bfs_frontier_set,dfs_frontier_set\n",
    "        Returns\n",
    "        -------\n",
    "        succ: \n",
    "        String : Path from START to END node\n",
    "    \"\"\"\n",
    "    # maintain a queue of paths\n",
    "    queue = []\n",
    "    # push the first path into the queue\n",
    "    queue.append([START])\n",
    "    while queue:\n",
    "        # get the first path from the queue\n",
    "        path = queue.pop(0)\n",
    "        # get the last node from the path\n",
    "        node = path[-1]\n",
    "        # path found\n",
    "        if node == END:\n",
    "            return path\n",
    "        # enumerate all adjacent nodes, construct a new path and push it into the queue\n",
    "        for adjacent in G.neighbors(node):\n",
    "            new_path = list(path)\n",
    "            new_path.append(adjacent)\n",
    "            queue.append(new_path)\n",
    "\n",
    "def computePathAndDepth(G,intersect_node,START,GOAL):\n",
    "    \"\"\" Returns the path from the initial state to the intersection nodes and GOAL\n",
    "        Parameters\n",
    "        ----------\n",
    "        Graph (networkx)\n",
    "        Intersection List of bfs_frontier_set,dfs_frontier_set\n",
    "        START : initial state (always D01)\n",
    "        GOAL : Final state\n",
    "        Returns\n",
    "        -------\n",
    "        succ: \n",
    "        String : Path from START to GOAL node,\n",
    "        Can be multiple if intersection list has more than one element\n",
    "    \"\"\"\n",
    "    fowardPath = nx.shortest_path(G,source=START,target=intersect_node)\n",
    "    backwardPath = nx.shortest_path(G,source=GOAL,target=intersect_node)\n",
    "    fpathDepth = len(fowardPath) -1 \n",
    "    bpathDepth = len(backwardPath)-1\n",
    "    if len(fowardPath)>1:\n",
    "        last_elem = fowardPath.pop()\n",
    "    return fowardPath + backwardPath[::-1],max(fpathDepth,bpathDepth,0)"
   ]
  },
  {
   "cell_type": "markdown",
   "metadata": {},
   "source": [
    "Call your main function/algorithm block in the next code block with appropriate input representation"
   ]
  },
  {
   "cell_type": "code",
   "execution_count": 6,
   "metadata": {},
   "outputs": [
    {
     "name": "stdout",
     "output_type": "stream",
     "text": [
      "BFS Frontier Set :  deque([2, 0])\n",
      "BFS Explored Set :  [1]\n",
      "===========================================\n",
      "DFS Depth : 1\n",
      "DFS Frontier Set :  [11, 9]\n",
      "DFS Explored Set :  [10]\n",
      "===========================================\n",
      "BFS Frontier Set :  deque([0, 3])\n",
      "BFS Explored Set :  [1, 2]\n",
      "===========================================\n",
      "DFS Depth : 2\n",
      "DFS Frontier Set :  [11, 8]\n",
      "DFS Explored Set :  [10, 9]\n",
      "===========================================\n",
      "BFS Frontier Set :  deque([3, 11])\n",
      "BFS Explored Set :  [1, 2, 0]\n",
      "===========================================\n",
      "intersection Found\n"
     ]
    }
   ],
   "source": [
    "max_nodes_in_mem = 0\n",
    "dfs_explored_set,dfs_frontier_set,intersectlist,max_nodes_in_mem = bidirectional_traversal(G,bfs_frontier_set,bfs_explored_set,GOAL)"
   ]
  },
  {
   "cell_type": "markdown",
   "metadata": {},
   "source": [
    "The agent should provide expected output for questions mentioned below in the subsequent blocks"
   ]
  },
  {
   "cell_type": "markdown",
   "metadata": {},
   "source": [
    "(1) Path taken to reach destination from source"
   ]
  },
  {
   "cell_type": "code",
   "execution_count": 7,
   "metadata": {},
   "outputs": [
    {
     "name": "stdout",
     "output_type": "stream",
     "text": [
      "D01-->D00-->D11-->D10\n",
      "[([1, 0, 11, 10], 2)]\n"
     ]
    }
   ],
   "source": [
    "PathList = []\n",
    "for elem in intersectlist:\n",
    "    Path,Depth = computePathAndDepth(G,elem,START,GOAL)\n",
    "    PathList.append((Path,Depth))\n",
    "    print(\"-->\".join([ \"D\"+ str(i).zfill(2) for i in Path]))\n",
    "print(PathList)"
   ]
  },
  {
   "cell_type": "markdown",
   "metadata": {},
   "source": [
    "(2) Cost of the path"
   ]
  },
  {
   "cell_type": "code",
   "execution_count": 8,
   "metadata": {},
   "outputs": [
    {
     "name": "stdout",
     "output_type": "stream",
     "text": [
      "Cost of Path :  3\n"
     ]
    }
   ],
   "source": [
    "# Execute statement to retrieve the cost of the path here\n",
    "\n",
    "for pathtuple in PathList:\n",
    "    cost = 0\n",
    "    pathLength = 0\n",
    "    path,depth = pathtuple\n",
    "    pathLength = len(path)\n",
    "    if pathLength >=2:\n",
    "        for i in range(0,pathLength-1):\n",
    "            cost = cost + G.get_edge_data(path[i],path[i+1])['weight']\n",
    "    print('Cost of Path : ' , cost)"
   ]
  },
  {
   "cell_type": "markdown",
   "metadata": {},
   "source": [
    "(3) Total Number of nodes expanded to get this state"
   ]
  },
  {
   "cell_type": "code",
   "execution_count": 9,
   "metadata": {},
   "outputs": [
    {
     "name": "stdout",
     "output_type": "stream",
     "text": [
      "total nodes expanded to get to state  5\n"
     ]
    }
   ],
   "source": [
    "# Execute statement to retrieve the total number of nodes expanded to get this state here\n",
    "print (\"total nodes expanded to get to state \", len(bfs_explored_set) + len(dfs_explored_set))"
   ]
  },
  {
   "cell_type": "markdown",
   "metadata": {},
   "source": [
    "(4) Maximum number of nodes kept at the memory at any point in time"
   ]
  },
  {
   "cell_type": "code",
   "execution_count": 10,
   "metadata": {},
   "outputs": [
    {
     "name": "stdout",
     "output_type": "stream",
     "text": [
      "Max Nodes in memory  4\n"
     ]
    }
   ],
   "source": [
    "# Execute Output for the maximum number of nodes kept at the memory at any point in time here\n",
    "print(\"Max Nodes in memory \", max_nodes_in_mem)"
   ]
  },
  {
   "cell_type": "markdown",
   "metadata": {},
   "source": [
    "(5) The depth at which the solution is found ( you might want to consider the depth of both dfs and bfs together) "
   ]
  },
  {
   "cell_type": "code",
   "execution_count": 11,
   "metadata": {},
   "outputs": [
    {
     "name": "stdout",
     "output_type": "stream",
     "text": [
      "Maximum of Depth at which bfs dfs intersect :  2\n"
     ]
    }
   ],
   "source": [
    "# Execute statement to retrieve the depth at which the solution is found here\n",
    "#( you might want to consider the depth of both dfs and bfs together) \n",
    "for pathtuple in PathList:\n",
    "    path,depth = pathtuple\n",
    "    print('Maximum of Depth at which bfs dfs intersect : ' , depth)"
   ]
  },
  {
   "cell_type": "markdown",
   "metadata": {},
   "source": [
    "All the best!! Happy Coding!!\n",
    "Let human intelligence prevail"
   ]
  }
 ],
 "metadata": {
  "kernelspec": {
   "display_name": "Python 3",
   "language": "python",
   "name": "python3"
  },
  "language_info": {
   "codemirror_mode": {
    "name": "ipython",
    "version": 3
   },
   "file_extension": ".py",
   "mimetype": "text/x-python",
   "name": "python",
   "nbconvert_exporter": "python",
   "pygments_lexer": "ipython3",
   "version": "3.6.8"
  }
 },
 "nbformat": 4,
 "nbformat_minor": 2
}
