{
 "cells": [
  {
   "cell_type": "markdown",
   "metadata": {},
   "source": [
    "#Question 9\n",
    "Image classification task using Niave Bayes and logistic regression classifier. \n",
    "1. Download a dataset from https://www.kaggle.com/c/dogs-vs-cats/data . (2 points)\n",
    "2. Randomly sample the images to create a cat and dog training sets consisting of 70% of the images. Rest 30% images form the testing images. (1 point)\n",
    "3. Build Naive Bayes classifier for cat and dog images. Use intensity and SVD based features for these classifiers. (2 points)\n",
    "4. Build a logistic regression based classifier for cat and dog images. Use intensity and SVD based features for these classifiers. (2 points)\n",
    "5. Calculate accuracy for the training set and testing set for the above classifiers, for both intensity and SVD based features and confusion matrix. (4 points)\n",
    "7. Compare the performance of the above classifiers and report your observations. (2 points)"
   ]
  },
  {
   "cell_type": "code",
   "execution_count": 2,
   "metadata": {},
   "outputs": [
    {
     "name": "stdout",
     "output_type": "stream",
     "text": [
      "sampleSubmission.csv: Skipping, found more recently modified local copy (use --force to force download)\n",
      "test1.zip: Skipping, found more recently modified local copy (use --force to force download)\n",
      "train.zip: Skipping, found more recently modified local copy (use --force to force download)\n"
     ]
    }
   ],
   "source": [
    "##Question 9 Part 1\n",
    "\n",
    "from kaggle.api.kaggle_api_extended import KaggleApi\n",
    "import os\n",
    "import sys\n",
    "\n",
    "## Import kaggle config (username and API KEY)from ~/.kaggle/kaggle.json\n",
    "api  = KaggleApi()\n",
    "api.authenticate()\n",
    "dirname = os.getcwd()\n",
    "filename = os.path.join(dirname, 'data')\n",
    "api.competition_download_files('dogs-vs-cats',path=filename,force=False,quiet=False)"
   ]
  },
  {
   "cell_type": "code",
   "execution_count": 3,
   "metadata": {},
   "outputs": [],
   "source": [
    "## Extract archive files (train.zip and test1.zip) to ./data\n",
    "import zipfile\n",
    "os.chdir(filename)\n",
    "abs_list_of_files_name = []\n",
    "for item in os.listdir(filename):\n",
    "    if zipfile.is_zipfile(item):\n",
    "        with zipfile.ZipFile(item, 'r') as file:\n",
    "            for member in file.infolist():\n",
    "                if member.filename[-1] == '/':\n",
    "                    continue\n",
    "                abs_list_of_files_name.append(filename + \"/\" + member.filename)\n",
    "            file.extractall()"
   ]
  },
  {
   "cell_type": "code",
   "execution_count": 4,
   "metadata": {},
   "outputs": [
    {
     "name": "stdout",
     "output_type": "stream",
     "text": [
      "25000\n",
      "12500\n"
     ]
    }
   ],
   "source": [
    "## Get from absolute files names class label for the image\n",
    "import re\n",
    "training_list = []\n",
    "test_list = []\n",
    "for elem in abs_list_of_files_name :\n",
    "    train_match = re.search(r'train',elem)\n",
    "    if train_match:\n",
    "        training_list.append(elem)\n",
    "    test_match = re.search(r'test1',elem)\n",
    "    if test_match:\n",
    "        test_list.append(elem) "
   ]
  },
  {
   "cell_type": "code",
   "execution_count": 9,
   "metadata": {},
   "outputs": [
    {
     "data": {
      "text/html": [
       "<div>\n",
       "<style scoped>\n",
       "    .dataframe tbody tr th:only-of-type {\n",
       "        vertical-align: middle;\n",
       "    }\n",
       "\n",
       "    .dataframe tbody tr th {\n",
       "        vertical-align: top;\n",
       "    }\n",
       "\n",
       "    .dataframe thead th {\n",
       "        text-align: right;\n",
       "    }\n",
       "</style>\n",
       "<table border=\"1\" class=\"dataframe\">\n",
       "  <thead>\n",
       "    <tr style=\"text-align: right;\">\n",
       "      <th></th>\n",
       "      <th>filepath</th>\n",
       "      <th>filename</th>\n",
       "      <th>category</th>\n",
       "    </tr>\n",
       "  </thead>\n",
       "  <tbody>\n",
       "  </tbody>\n",
       "</table>\n",
       "</div>"
      ],
      "text/plain": [
       "Empty DataFrame\n",
       "Columns: [filepath, filename, category]\n",
       "Index: []"
      ]
     },
     "execution_count": 9,
     "metadata": {},
     "output_type": "execute_result"
    }
   ],
   "source": [
    "#Create a trainng catalog dataset\n",
    "import numpy as np\n",
    "import pandas as pd\n",
    "\n",
    "#Convert List to 1D numpy Array\n",
    "train_list_1darray = np.array(training_list)\n",
    "training_df = pd.DataFrame(train_list_1darray,columns=['filepath']) \n",
    "training_df['filename'],training_df['category'] = training_df['filepath'].apply(lambda x: os.path.basename(x)),training_df['filepath'].apply(lambda x: os.path.basename(x).split('.')[0])\n",
    "#training_df[~training_df['category'].isin(['cat','dog'])]"
   ]
  },
  {
   "cell_type": "code",
   "execution_count": 57,
   "metadata": {},
   "outputs": [],
   "source": [
    "#Create a test catalog dataset\n",
    "test_list_1darray = np.array(test_list) \n",
    "test_df = pd.DataFrame(test_list_1darray,columns=['filepath']) \n",
    "test_df['filename'],test_df['category'] = test_df['filepath'].apply(lambda x: os.path.basename(x)),test_df['filepath'].apply(lambda x: os.path.basename(x).split('.')[0])"
   ]
  },
  {
   "cell_type": "markdown",
   "metadata": {},
   "source": [
    "####Feature extraction from a single image"
   ]
  },
  {
   "cell_type": "code",
   "execution_count": 11,
   "metadata": {},
   "outputs": [],
   "source": [
    "%matplotlib inline\n",
    "from PIL import Image\n",
    "from sklearn import preprocessing\n",
    "from skimage.feature import local_binary_pattern, greycomatrix, greycoprops\n",
    "from skimage.filters import gabor\n",
    "import numpy as np\n",
    "import pickle\n",
    "import matplotlib.pyplot as plt"
   ]
  },
  {
   "cell_type": "code",
   "execution_count": 13,
   "metadata": {},
   "outputs": [],
   "source": [
    "## Build a list of tuples of (height,width) for all images\n",
    "##import opencv library\n",
    "import cv2\n",
    "\n",
    "## Returns tuple \n",
    "##output: the image height,width\n",
    "\n",
    "def image_dimensions(imgloc):\n",
    "    img = cv2.imread(imgloc)\n",
    "    return (img.shape[0],img.shape[1])\n",
    "\n",
    "training_img_2Ddimension = [image_dimensions(x) for x in training_df['filepath']]\n",
    "test_img_2Ddimension = [image_dimensions(x) for x in test_df['filepath']]"
   ]
  },
  {
   "cell_type": "code",
   "execution_count": 14,
   "metadata": {},
   "outputs": [],
   "source": [
    "## logic to resize the images\n",
    "## automate to select proper height and width\n",
    "## start with an initial height width \n",
    "## iteriate to adjust if discard ratio > 0.01\n",
    "## if discard_ratio > 0.01 then height = 0.9 * height and width = width * 0.9\n",
    "\n",
    "import math\n",
    "def resize_height_width(result,ratio):\n",
    "    discard_ratio = 0\n",
    "    fixed_height_to_resize = 500\n",
    "    fixed_width_to_resize = 500\n",
    "    discard_list = []\n",
    "    while True:\n",
    "        outlist = [ 1 if x[0] >=fixed_height_to_resize and x[1] >= fixed_width_to_resize else 0 for x in result]\n",
    "        discard_ratio = outlist.count(0) / outlist.count(1)\n",
    "        if discard > ratio :\n",
    "            fixed_width_to_resize  = math.floor(0.9 * fixed_width_to_resize)\n",
    "            fixed_height_to_resize = math.floor(0.9 * fixed_height_to_resize)\n",
    "        else:\n",
    "            discard_list = outlist\n",
    "            break\n",
    "    return discard_list"
   ]
  },
  {
   "cell_type": "code",
   "execution_count": null,
   "metadata": {},
   "outputs": [],
   "source": [
    "## add a dataframe column(include) to track if a image is resizeable or rejected for a height width \n",
    "discard_list = []\n",
    "discard_list = resize_height_width(training_img_2Ddimension,0.001)\n",
    "training_df['include'] = pd.Series(discard_list).values\n",
    "## copy original dataframe to create a subset dataframe for all image that have include = 1\n",
    "training_df_subset = training_df[training_df['include']==1].copy()"
   ]
  },
  {
   "cell_type": "code",
   "execution_count": null,
   "metadata": {},
   "outputs": [],
   "source": [
    "## add a dataframe column(include) to track if a image is resizeable or rejected for a height width \n",
    "discard_list = []\n",
    "discard_list = resize_height_width(test_img_2Ddimension,0.001)\n",
    "test_df['include'] = pd.Series(discard_list).values\n",
    "## copy original dataframe to create a subset dataframe for all image that have include = 1\n",
    "test_df_subset = training_df[training_df['include']==1].copy()"
   ]
  },
  {
   "cell_type": "code",
   "execution_count": 17,
   "metadata": {},
   "outputs": [],
   "source": [
    "## Resize image to fixed_width_to_resize , fixed_height_to_resize \n",
    "## convert to grayscale \n",
    "## return singular numpy 1Darray\n",
    "def image_resize_convert(imgpath,fixed_height_to_resize,fixed_width_to_resize):\n",
    "    img = Image.open(imgpath)\n",
    "    img = img.resize((fixed_height_to_resize, fixed_width_to_resize))\n",
    "    imggray = img.convert('L')\n",
    "    filename = os.path.basename(imgpath)\n",
    "    filepath = os.path.dirname(imgpath)\n",
    "    newfilepath = filepath + \"/100_\" +filename \n",
    "    #new_image.save(newfilepath)\n",
    "    imgmat = np.array(list(imggray.getdata(band=0)), float)\n",
    "    imgmat.shape = (fixed_height_to_resize, fixed_width_to_resize)\n",
    "    imgmat = np.matrix(imgmat)\n",
    "    U, sigma, V = np.linalg.svd(imgmat)\n",
    "    img.close()\n",
    "    return sigma"
   ]
  },
  {
   "cell_type": "code",
   "execution_count": 18,
   "metadata": {},
   "outputs": [],
   "source": [
    "## Build a numpy 1D array list of singular values \n",
    "global_SVD = [image_resize_convert(x,fixed_height_to_resize,fixed_width_to_resize) for x in newdf['filepath']]\n",
    "## label list\n",
    "global_label = [ os.path.basename(x).split('.')[0] for x in newdf['filepath'] ]\n",
    "global_category = [ 1 if x == 'cat' else 0 for x in global_label]\n",
    "## Convert to dataframe \n",
    "## Normalize the dataframe\n",
    "## Assign label to each row in dataframe\n",
    "train_numpy_2darray = np.array(global_SVD)\n",
    "train_numpy_2darray_normalized = preprocessing.normalize(train_numpy_2darray, norm='l2')\n",
    "#train_svd_df = pd.DataFrame(train_numpy_2darray_normalized)\n",
    "#train_svd_df['category'] = pd.Series(global_category).values\n"
   ]
  },
  {
   "cell_type": "code",
   "execution_count": 43,
   "metadata": {},
   "outputs": [],
   "source": [
    "train_category_1darray = np.array(global_category) "
   ]
  },
  {
   "cell_type": "code",
   "execution_count": 39,
   "metadata": {},
   "outputs": [],
   "source": [
    "## Import libraries for training models\n",
    "from sklearn.model_selection import train_test_split, cross_val_score\n",
    "from sklearn.model_selection import KFold, StratifiedKFold\n",
    "from sklearn.metrics import confusion_matrix, accuracy_score, classification_report\n",
    "from sklearn.linear_model import LogisticRegression\n",
    "from sklearn.naive_bayes import GaussianNB\n",
    "\n",
    "##--------------------\n",
    "## tunable-parameters\n",
    "##--------------------\n",
    "test_size = 0.10\n",
    "seed      = 9\n",
    "scoring   = \"accuracy\""
   ]
  },
  {
   "cell_type": "code",
   "execution_count": 50,
   "metadata": {},
   "outputs": [],
   "source": [
    "## train model using train_numpy_2darray_normalized  and global_category\n",
    "models = []\n",
    "models.append(('LR', LogisticRegression(random_state=seed)))\n",
    "models.append(('NB', GaussianNB()))\n",
    "\n",
    "## variables to hold the results and names\n",
    "results = []\n",
    "names   = []"
   ]
  },
  {
   "cell_type": "code",
   "execution_count": 51,
   "metadata": {},
   "outputs": [
    {
     "name": "stdout",
     "output_type": "stream",
     "text": [
      "[STATUS] features shape: (24825, 99)\n",
      "[STATUS] labels shape: (24825,)\n",
      "[STATUS] training started...\n"
     ]
    }
   ],
   "source": [
    "# verify the shape of the feature vector and labels\n",
    "print(\"[STATUS] features shape: {}\".format(train_numpy_2darray_normalized.shape))\n",
    "print(\"[STATUS] labels shape: {}\".format(train_category_1darray.shape))\n",
    "\n",
    "print(\"[STATUS] training started...\")"
   ]
  },
  {
   "cell_type": "code",
   "execution_count": 52,
   "metadata": {},
   "outputs": [
    {
     "name": "stdout",
     "output_type": "stream",
     "text": [
      "LR: 0.444706 (0.037895)\n",
      "NB: 0.601850 (0.214963)\n"
     ]
    }
   ],
   "source": [
    "# 10-fold cross validation\n",
    "import warnings\n",
    "warnings.filterwarnings('ignore')\n",
    "for name, model in models:\n",
    "    kfold = KFold(n_splits=10, random_state=seed)\n",
    "    cv_results = cross_val_score(model, train_numpy_2darray_normalized, train_category_1darray, cv=kfold, scoring=scoring)\n",
    "    results.append(cv_results)\n",
    "    names.append(name)\n",
    "    msg = \"%s: %f (%f)\" % (name, cv_results.mean(), cv_results.std())\n",
    "    print(msg)"
   ]
  },
  {
   "cell_type": "code",
   "execution_count": 53,
   "metadata": {},
   "outputs": [
    {
     "data": {
      "image/png": "[encoded data removed]",
      "text/plain": [
       "<Figure size 432x288 with 1 Axes>"
      ]
     },
     "metadata": {
      "needs_background": "light"
     },
     "output_type": "display_data"
    }
   ],
   "source": [
    "# boxplot algorithm comparison\n",
    "fig = plt.figure()\n",
    "fig.suptitle('Machine Learning algorithm comparison')\n",
    "ax = fig.add_subplot(111)\n",
    "plt.boxplot(results)\n",
    "ax.set_xticklabels(names)\n",
    "plt.show()"
   ]
  },
  {
   "cell_type": "code",
   "execution_count": null,
   "metadata": {},
   "outputs": [],
   "source": [
    "#-----------------------------------\n",
    "# TESTING OUR MODEL\n",
    "#https://gogul09.github.io/software/image-classification-python\n",
    "#https://hadrienj.github.io/posts/Deep-Learning-Book-Series-2.8-Singular-Value-Decomposition/\n",
    "#https://learning.oreilly.com/library/view/mastering-opencv-4/9781789344912/9c91ee0b-2fab-4972-a4d5-f3e6cdae8c47.xhtml\n",
    "#https://www.frankcleary.com/svdimage/\n",
    "#https://auth0.com/blog/image-processing-in-python-with-pillow/\n",
    "#-----------------------------------\n",
    "\n",
    "# instantiate the model (using the default parameters)\n",
    "logreg = LogisticRegression()\n",
    "# fit the model with data\n",
    "logreg.fit(train_numpy_2darray_normalized, train_category_1darray)\n",
    "\n",
    "#y_pred=logreg.predict(X_test)"
   ]
  }
 ],
 "metadata": {
  "kernelspec": {
   "display_name": "Python 3",
   "language": "python",
   "name": "python3"
  },
  "language_info": {
   "codemirror_mode": {
    "name": "ipython",
    "version": 3
   },
   "file_extension": ".py",
   "mimetype": "text/x-python",
   "name": "python",
   "nbconvert_exporter": "python",
   "pygments_lexer": "ipython3",
   "version": "3.6.8"
  }
 },
 "nbformat": 4,
 "nbformat_minor": 2
}
