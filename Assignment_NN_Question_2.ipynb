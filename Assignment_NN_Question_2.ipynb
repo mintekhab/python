{
 "cells": [
  {
   "cell_type": "code",
   "execution_count": null,
   "metadata": {},
   "outputs": [],
   "source": [
    "# Assignment : A2\n",
    "# Mohammed Intekhab : 2018AD04076\n",
    "# Ajay Sharma       : 2018AD04064\n",
    "# Avinash Chandra   : 2018AD04061"
   ]
  },
  {
   "cell_type": "markdown",
   "metadata": {},
   "source": [
    "# Question 2\n",
    "\n",
    "Write Python code to build a neural network with the following details. \n",
    "\n",
    "    - Input data = Iris dataset\n",
    "    - Number of hidden layers = 1\n",
    "    - Number of units in hidden layer = 10\n",
    "    - Number of iterations = 5000 \n",
    "    - Learning algorithm = stochastic gradient descent\n",
    "    - Activation = logistic\n",
    "    - Learning rate =  0.0001, 0.001, 0.01, 0.1, 1\n",
    "\n",
    "\n",
    "1. Compare the training score for each learning rate. \n",
    "2. Plot the loss curve for each  learning rate. \n",
    "3. Report execution time for each learning rate as a bar graph. (Use library time and time() method) \n"
   ]
  },
  {
   "cell_type": "markdown",
   "metadata": {},
   "source": [
    "## Expectations\n",
    "\n",
    "1. Expected output: (approximately)\n",
    "    - Training accuracy 0.0001 is xx.xxx\n",
    "    - Training accuracy 0.001 is xx.xxx\n",
    "    - Training accuracy 0.01 is xx.xxx\n",
    "    - Training accuracy 0.1 is xx.xxx\n",
    "    - Training accuracy 1 is xx.xxx \n",
    "    \n",
    "2. Graph: Training Loss (Actual output may vary)\n",
    "![title](images/op-learning.png)\n",
    "\n",
    "3. Bar graph: Execution Time (Actual output may vary)\n",
    "![title](images/time-learning.png)\n",
    "\n",
    "You are expected to modify this notebook and upload the modified file as assignment submission.\n",
    "\n",
    "<b> PS: Code written within the block will be evaluted. Other code will be ignored.\n",
    "#### start code here\n",
    "#### end code here"
   ]
  },
  {
   "cell_type": "code",
   "execution_count": 1,
   "metadata": {},
   "outputs": [],
   "source": [
    "from sklearn import datasets  \n",
    "import numpy as np\n",
    "import warnings\n",
    "import matplotlib.pyplot as plt \n",
    "\n",
    "from sklearn.preprocessing import StandardScaler\n",
    "from sklearn.model_selection import train_test_split\n",
    "\n",
    "from sklearn.metrics import accuracy_score, classification_report, confusion_matrix\n",
    "\n",
    "# Load Iris dataset.\n",
    "\n",
    "iris = datasets.load_iris()\n",
    "\n",
    "# Extract all columns except last from the dataset for X values.\n",
    "# y is the target column.\n",
    "\n",
    "X = iris[\"data\"][:,:-1]  \n",
    "y = iris[\"target\"]\n",
    "\n",
    "# Split data into train and test\n",
    "\n",
    "(X_train, X_test, y_train, y_test) = train_test_split(X, y, stratify=y, test_size= 0.3)\n",
    "\n",
    "# normalise the data\n",
    "scaler = StandardScaler()\n",
    "scaler.fit(X_train)\n",
    "\n",
    "X_train = scaler.transform(X_train)\n",
    "X_test = scaler.transform(X_test)"
   ]
  },
  {
   "cell_type": "code",
   "execution_count": 2,
   "metadata": {},
   "outputs": [
    {
     "name": "stdout",
     "output_type": "stream",
     "text": [
      "The slowest run took 36.01 times longer than the fastest. This could mean that an intermediate result is being cached.\n",
      "32.3 ms ± 46.9 ms per loop (mean ± std. dev. of 7 runs, 1 loop each)\n",
      "557 ms ± 41.9 ms per loop (mean ± std. dev. of 7 runs, 1 loop each)\n",
      "439 ms ± 22.1 ms per loop (mean ± std. dev. of 7 runs, 1 loop each)\n",
      "123 ms ± 1.93 ms per loop (mean ± std. dev. of 7 runs, 10 loops each)\n",
      "50.6 ms ± 835 µs per loop (mean ± std. dev. of 7 runs, 10 loops each)\n"
     ]
    }
   ],
   "source": [
    "# Use the library function sklearn.neural_network.MLPClassifier\n",
    "from sklearn.neural_network import MLPClassifier\n",
    "\n",
    "# Build neural network for each learning rate. (max 10 lines of code) Use loop.\n",
    "# start code here\n",
    "labels = [\"learning-rate 0.0001\",\"learning-rate 0.001\",\"learning-rate 0.01\",\\\n",
    "          \"learning-rate 0.1\",\"learning-rate 1\"]\n",
    "plot_args = [{'c': 'red', 'linestyle': '-'},\n",
    "             {'c': 'blue', 'linestyle': '-'},\n",
    "             {'c': 'green', 'linestyle': '-'},\n",
    "             {'c': 'black', 'linestyle': '-'},\n",
    "             {'c': 'magenta', 'linestyle': '-'}]\n",
    "inp_learning_rate =  [0.0001, 0.001, 0.01, 0.1, 1]\n",
    "mlps = []\n",
    "time_list = []\n",
    "for rate in inp_learning_rate:\n",
    "    mlp = MLPClassifier(hidden_layer_sizes=(10),solver='sgd',activation='logistic',learning_rate_init=rate,\\\n",
    "                        max_iter=5000)\n",
    "# Using magic function %timeit to measure time\n",
    "    timetaken = %timeit -o mlp.fit(X_train, y_train)\n",
    "    time_list.append(timetaken.best*1000) ## converting seconds to milliseconds\n",
    "    mlps.append(mlp)    \n",
    "# end code here"
   ]
  },
  {
   "cell_type": "code",
   "execution_count": 3,
   "metadata": {},
   "outputs": [
    {
     "name": "stdout",
     "output_type": "stream",
     "text": [
      "Training Accuracy 0.0001 is 0.3333333333333333 \n",
      "Training Accuracy 0.001 is 0.8476190476190476 \n",
      "Training Accuracy 0.01 is 0.9619047619047619 \n",
      "Training Accuracy 0.1 is 0.9714285714285714 \n",
      "Training Accuracy 1 is 0.9809523809523809 \n"
     ]
    }
   ],
   "source": [
    "# Compare the training  score for each learning rate. (max 2 lines of code) Use loop.\n",
    "\n",
    "# start code here\n",
    "for rate in inp_learning_rate :\n",
    "    #print (\"Training Accuracy \",rate , \"is \",mlps[inp_learning_rate.index(rate)].score(X_train, y_train))\n",
    "    print(\"Training Accuracy {0} is {1} \".format(rate,mlps[inp_learning_rate.index(rate)].score(X_train, y_train)))\n",
    "# end code here"
   ]
  },
  {
   "cell_type": "code",
   "execution_count": 4,
   "metadata": {},
   "outputs": [
    {
     "data": {
      "image/png": "[encoded data removed]",
      "text/plain": [
       "<Figure size 432x288 with 1 Axes>"
      ]
     },
     "metadata": {
      "needs_background": "light"
     },
     "output_type": "display_data"
    }
   ],
   "source": [
    "# Plot the loss curve for each learning rate. (max 5 lines of code) Use loop.\n",
    "for mlp,args,label in zip(mlps,plot_args,labels):\n",
    "    plt.plot(mlp.loss_curve_, **args,label=label)\n",
    "plt.legend(loc='best')\n",
    "plt.xlabel('No. of Iterations')\n",
    "plt.ylabel('Training loss')\n",
    "plt.show()\n",
    "# end code here"
   ]
  },
  {
   "cell_type": "code",
   "execution_count": 5,
   "metadata": {},
   "outputs": [
    {
     "data": {
      "image/png": "[encoded data removed]",
      "text/plain": [
       "<Figure size 432x288 with 1 Axes>"
      ]
     },
     "metadata": {
      "needs_background": "light"
     },
     "output_type": "display_data"
    }
   ],
   "source": [
    "# Plot the execution time as bar graph. (max 5 lines of code)\n",
    "\n",
    "# start code here\n",
    "plt.bar(x=[0,2,4,6,8],height=time_list)\n",
    "plt.xticks([0,2,4,6,8],('0.0001', '0.001', '0.01', '0.1','1.0'), rotation=90)\n",
    "plt.xlabel('Learning rate')\n",
    "plt.ylabel('time in msec')\n",
    "plt.title('Time taken by MLE Classifier with different initial learning rates',pad=1.2)\n",
    "plt.show()\n",
    "# end code here"
   ]
  }
 ],
 "metadata": {
  "kernelspec": {
   "display_name": "Python 3",
   "language": "python",
   "name": "python3"
  },
  "language_info": {
   "codemirror_mode": {
    "name": "ipython",
    "version": 3
   },
   "file_extension": ".py",
   "mimetype": "text/x-python",
   "name": "python",
   "nbconvert_exporter": "python",
   "pygments_lexer": "ipython3",
   "version": "3.7.3"
  }
 },
 "nbformat": 4,
 "nbformat_minor": 2
}
