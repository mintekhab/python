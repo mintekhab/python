{
 "cells": [
  {
   "cell_type": "markdown",
   "metadata": {},
   "source": [
    "A manufacturing company claims that the mean breaking strength of the cables supplied s 1500 with a standard deviation of 100.A sample of size 9 cables tested is having mean breaking strength of 1600 with a standard deviation of 30. If the distribution of the mean breaking strength is normal, does this support the claim at 1% level of significance?\n",
    "a)\tUse z – statistic to validate the claim\n",
    "b)\tUse t – statistics to validate the\n",
    "c)\tRepeat the same at 5% level of significance\n",
    "d)\tBased on (a),(b) and (c) write your observations , comments and suggestions\n"
   ]
  },
  {
   "cell_type": "markdown",
   "metadata": {},
   "source": [
    "\n",
    "## Answer\n",
    "\n",
    "### Conditions for applying Z or t Hypothesis:\n",
    "1. Sample needs to be random or normally distributed or the histogram of the sample distribution \n",
    "   should be somewhat normal with no outliers or skeweness.\n",
    "2. Large sample size ( n > 30).\n",
    "3. If the sample size is less than 30 but distribution is normal we can safely apply t-test and z-test.\n",
    "\n",
    "### Observation \n",
    "1. It is given that the mean breaking strength is normal.\n",
    "2. Although, the sample size is small ( n = 9 ) but it's distribution is normal \n",
    "   so we can apply z-test and t-test statistics."
   ]
  },
  {
   "cell_type": "markdown",
   "metadata": {},
   "source": [
    "## Steps for Hypothesis testing\n",
    "\n",
    "1. Stating the null hypothesis and alternate hypothesis.\n",
    "2. Collecting relevant data, checking that the data satisfy the conditions which allow us to use this test, \n",
    "   and summarizing the data using a test statistic.\n",
    "3. Finding the p-value of the test, the probability of obtaining data as extreme as those\n",
    "   collected (or even more extreme, in the direction of the alternative hypothesis), assuming that \n",
    "   the null hypothesis is true. In other words, how likely is it that the only reason for getting data \n",
    "   like those observed is sampling variability (and not because Ho is not true)?\n",
    "4. Drawing conclusions, assessing the significance of the results based on the p-value, \n",
    "   and stating our conclusions in context. (Do we or don't we have evidence to reject and accept ?)\n",
    "\n"
   ]
  },
  {
   "cell_type": "markdown",
   "metadata": {},
   "source": [
    "## Step 1:\n",
    "$$ H_0 : \\mu = 1500 $$\n",
    "$$ H_1 : \\mu \\neq 1500 $$"
   ]
  },
  {
   "cell_type": "markdown",
   "metadata": {},
   "source": [
    "## Step 2\n",
    "$$ population \\;mean \\; \\mu = 1500 $$\n",
    "$$ population \\;STD \\; \\sigma = 100 $$\n",
    "$$ sample \\;mean \\; \\bar x = 1600 $$\n",
    "$$ sample \\;STD  \\; s = 30 $$\n",
    "$$ sample \\;size \\; n = 9 $$"
   ]
  },
  {
   "cell_type": "markdown",
   "metadata": {},
   "source": [
    "## Step 3 : \n"
   ]
  },
  {
   "cell_type": "code",
   "execution_count": 24,
   "metadata": {},
   "outputs": [
    {
     "name": "stdout",
     "output_type": "stream",
     "text": [
      "0.0027\n"
     ]
    }
   ],
   "source": [
    "## Calculate the z-score \n",
    "import math\n",
    "import scipy.stats as st\n",
    "mean_diff = 1600 - 1500\n",
    "sample_variation = 100 / math.sqrt(9)\n",
    "zscore = mean_diff/sample_variation\n",
    "zpvalue = 2 * (1-st.norm.cdf(zscore))\n",
    "print (round(zpvalue,4))"
   ]
  },
  {
   "cell_type": "code",
   "execution_count": 26,
   "metadata": {},
   "outputs": [
    {
     "name": "stdout",
     "output_type": "stream",
     "text": [
      "9.428090415820634\n",
      "t = 9.428090415820634\n",
      "p = 1.3152097325885848e-05\n"
     ]
    }
   ],
   "source": [
    "## Compare with the critical t-value\n",
    "#Degrees of freedom\n",
    "df = 9 - 1\n",
    "ttest = (mean_diff / 30) * math.sqrt(9-1)\n",
    "print(ttest)\n",
    "#p-value after comparison with the t \n",
    "p = 1 - st.t.cdf(ttest,df=df)\n",
    "print(\"t = \" + str(ttest))\n",
    "print(\"p = \" + str(2*p))"
   ]
  },
  {
   "cell_type": "markdown",
   "metadata": {},
   "source": [
    "## For 1% significance level the z-score in 2 tailed test is 2.576\n",
    "## For 5% significance level the z-score in 2 tailed test is 1.96\n",
    "\n",
    "### since the z-score is 3 which is greater than both 2.576 and 1.96 , the Null hypothesis is rejected . Also , the p-value of 0.0027 is less than 0.01 and 0.05 which implies that the data present strong evidence to reject the NULL hypothesis "
   ]
  },
  {
   "cell_type": "markdown",
   "metadata": {},
   "source": [
    "## For 1% significance level the t-test  statistics in 2 tailed test  with 8 degree of freedom is 3.355\n",
    "## For 5% significance level the t-test statistics in 2 tailed test  with 8 degree of freedomis 2.306\n",
    "\n",
    "### since the t-test value  is 9.43 which is greater than both 3.355 and 2.306, the Null hypothesis is rejected . Also , the p-value of 0.00001315 is less than 0.01 and 0.05 which implies that the data present strong evidence to reject the NULL hypothesis \n",
    "\n",
    "# The  manufacturing company's claim that the mean breaking strength is 1500 can be rejected "
   ]
  },
  {
   "cell_type": "code",
   "execution_count": null,
   "metadata": {},
   "outputs": [],
   "source": []
  }
 ],
 "metadata": {
  "kernelspec": {
   "display_name": "Python 3",
   "language": "python",
   "name": "python3"
  },
  "language_info": {
   "codemirror_mode": {
    "name": "ipython",
    "version": 3
   },
   "file_extension": ".py",
   "mimetype": "text/x-python",
   "name": "python",
   "nbconvert_exporter": "python",
   "pygments_lexer": "ipython3",
   "version": "3.7.3"
  }
 },
 "nbformat": 4,
 "nbformat_minor": 2
}
